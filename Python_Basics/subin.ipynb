{
 "cells": [
  {
   "cell_type": "markdown",
   "id": "5caea09261ae3c14",
   "metadata": {
    "collapsed": false
   },
   "source": [
    "Object-oriented programming-Adding attributes"
   ]
  },
  {
   "cell_type": "code",
   "execution_count": 1,
   "id": "d1b4dc444cf317b5",
   "metadata": {
    "collapsed": false,
    "ExecuteTime": {
     "end_time": "2023-08-24T07:46:07.288723Z",
     "start_time": "2023-08-24T07:46:07.278922600Z"
    }
   },
   "outputs": [
    {
     "name": "stdout",
     "output_type": "stream",
     "text": [
      "Creta\n",
      "2022\n",
      "0\n",
      "Ecospot\n",
      "2020\n",
      "0\n",
      "Balero\n",
      "2019\n",
      "0\n"
     ]
    }
   ],
   "source": [
    "class CarData:\n",
    "    def __init__(self, Car_name, MFG_Date):\n",
    "        self.name= Car_name\n",
    "        self.Manufacturing_year=MFG_Date\n",
    "        self.month= 0\n",
    "    \n",
    "car1=CarData('Creta',2022)\n",
    "car2= CarData('Ecospot',2020)\n",
    "car3= CarData('Balero',2019)\n",
    "print(car1.name)\n",
    "print(car1.Manufacturing_year)\n",
    "print(car1.month)\n",
    "print(car2.name)\n",
    "print(car2.Manufacturing_year)\n",
    "print(car2.month)\n",
    "print(car3.name)\n",
    "print(car3.Manufacturing_year)\n",
    "print(car3.month)\n"
   ]
  },
  {
   "cell_type": "code",
   "execution_count": null,
   "id": "c89a9674-a7a6-4b69-9835-33e099f392d5",
   "metadata": {
    "collapsed": false
   },
   "outputs": [],
   "source": []
  }
 ],
 "metadata": {
  "kernelspec": {
   "display_name": "Python 3 (ipykernel)",
   "language": "python",
   "name": "python3"
  },
  "language_info": {
   "codemirror_mode": {
    "name": "ipython",
    "version": 3
   },
   "file_extension": ".py",
   "mimetype": "text/x-python",
   "name": "python",
   "nbconvert_exporter": "python",
   "pygments_lexer": "ipython3",
   "version": "3.11.4"
  }
 },
 "nbformat": 4,
 "nbformat_minor": 5
}
